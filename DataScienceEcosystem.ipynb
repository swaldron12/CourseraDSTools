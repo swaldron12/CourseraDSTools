{
 "cells": [
  {
   "cell_type": "markdown",
   "id": "185cabc2-aa9b-4e87-9547-18af3657353f",
   "metadata": {},
   "source": [
    "# Data Science Tools and Ecoystem"
   ]
  },
  {
   "cell_type": "markdown",
   "id": "d2517046-b321-4da5-afba-99f699171b1f",
   "metadata": {},
   "source": [
    "In this notebook, Data Science Tools and Ecosystem are summarized."
   ]
  },
  {
   "cell_type": "markdown",
   "id": "72b9c53a-a8e8-4525-9b07-ddac11154d84",
   "metadata": {},
   "source": [
    "Some of the popular languages that Data Scientists use are:\n",
    "1. Python\n",
    "2. R\n",
    "3. Java"
   ]
  },
  {
   "cell_type": "markdown",
   "id": "bc91215d-d38b-4a89-9a85-e9358fa8e5f4",
   "metadata": {},
   "source": [
    "Some of the commonly used libraries used by Data Scientists include:\n",
    "1. pandas\n",
    "2. numpy\n",
    "3. ggplot\n",
    "4. dplyr"
   ]
  },
  {
   "cell_type": "markdown",
   "id": "9de94b2e-ffd5-4e5c-9e73-66886e5744c1",
   "metadata": {},
   "source": [
    "| Data Science Tools |\n",
    "----------------------\n",
    "| JupyterLab |\n",
    "| RStudio |\n",
    "| Spyder |\n"
   ]
  },
  {
   "cell_type": "markdown",
   "id": "ec4356ce-674d-4ad5-8e2d-4b56ae54bc2b",
   "metadata": {},
   "source": [
    "### Below are a few exmaples of evaluating arithmetic expressions in Python."
   ]
  },
  {
   "cell_type": "code",
   "execution_count": 3,
   "id": "7f04c510-ebe0-47c3-a878-26be1dd99e1d",
   "metadata": {},
   "outputs": [
    {
     "data": {
      "text/plain": [
       "17"
      ]
     },
     "execution_count": 3,
     "metadata": {},
     "output_type": "execute_result"
    }
   ],
   "source": [
    "# This is a simple artihmetic expression to multiply then add integers.\n",
    "(3*4)+5"
   ]
  },
  {
   "cell_type": "code",
   "execution_count": 4,
   "id": "63593bb1-655e-4d09-b958-45abd46ac1ac",
   "metadata": {},
   "outputs": [
    {
     "data": {
      "text/plain": [
       "3.3333333333333335"
      ]
     },
     "execution_count": 4,
     "metadata": {},
     "output_type": "execute_result"
    }
   ],
   "source": [
    "# This will convert 200 minutes into hours by dividing by 60.\n",
    "200 / 60"
   ]
  },
  {
   "cell_type": "markdown",
   "id": "b635e284-2117-46f6-84a8-732cb2cd2cd4",
   "metadata": {},
   "source": [
    "**Objectives:**\n",
    "* RStudio and JupyterLab are popular IDE's for data analysis.\n",
    "* Git is an example of a version control system.\n",
    "* Version control allows multiple users to work on projects at the same time."
   ]
  },
  {
   "cell_type": "markdown",
   "id": "c51a7830-b280-496e-bdcc-b9796997c13b",
   "metadata": {},
   "source": [
    "## Author\n",
    "Shane Waldron"
   ]
  },
  {
   "cell_type": "code",
   "execution_count": null,
   "id": "7c0f3e43-69b1-4bbf-b951-fc63bf4bb8a6",
   "metadata": {},
   "outputs": [],
   "source": []
  }
 ],
 "metadata": {
  "kernelspec": {
   "display_name": "Python 3 (ipykernel)",
   "language": "python",
   "name": "python3"
  },
  "language_info": {
   "codemirror_mode": {
    "name": "ipython",
    "version": 3
   },
   "file_extension": ".py",
   "mimetype": "text/x-python",
   "name": "python",
   "nbconvert_exporter": "python",
   "pygments_lexer": "ipython3",
   "version": "3.9.19"
  }
 },
 "nbformat": 4,
 "nbformat_minor": 5
}
